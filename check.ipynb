{
 "cells": [
  {
   "cell_type": "code",
   "execution_count": null,
   "metadata": {},
   "outputs": [],
   "source": [
    "using Pkg\n",
    "Pkg.activate(\"braket_ahs_env\", shared=true)"
   ]
  },
  {
   "cell_type": "code",
   "execution_count": null,
   "metadata": {},
   "outputs": [],
   "source": [
    "using Pkg\n",
    "Pkg.update()"
   ]
  },
  {
   "cell_type": "code",
   "execution_count": null,
   "metadata": {},
   "outputs": [],
   "source": [
    "using Pkg\n",
    "Pkg.build(\"CSV\")"
   ]
  },
  {
   "cell_type": "code",
   "execution_count": 2,
   "metadata": {},
   "outputs": [],
   "source": [
    "using Plots, HDF5, Glob\n",
    "using ITensors, ITensorMPS\n",
    "using DataFrames\n",
    "using ProgressMeter"
   ]
  },
  {
   "cell_type": "code",
   "execution_count": null,
   "metadata": {},
   "outputs": [],
   "source": [
    "using BraketAHS"
   ]
  },
  {
   "cell_type": "code",
   "execution_count": null,
   "metadata": {},
   "outputs": [],
   "source": [
    "function entropy_von_neumann(psi::MPS, b::Int)\n",
    "    s = siteinds(psi)  \n",
    "    orthogonalize!(psi, b)\n",
    "    _,S = svd(psi[b], (linkind(psi, b-1), s[b]))\n",
    "    SvN = 0.0\n",
    "    for n in 1:dim(S, 1)\n",
    "      p = S[n,n]^2\n",
    "      SvN -= p * log(p)\n",
    "    end\n",
    "    return SvN\n",
    "  end"
   ]
  },
  {
   "cell_type": "code",
   "execution_count": null,
   "metadata": {},
   "outputs": [],
   "source": [
    "N = 15\n",
    "\n",
    "files = glob(\"data/dmrg_Nx_$(N)*h5\")\n",
    "files = filter(file -> !occursin(\"perturbed\", file), files)\n",
    "results = DataFrame(Delta=Float64[], ls=Float64[], SvN=Float64[])\n",
    "\n",
    "@showprogress for file_path in files\n",
    "    energy = 0\n",
    "    # Open the H5 file and read the MPS\n",
    "    h5open(file_path, \"r\") do file\n",
    "        psi = read(file, \"psi\", MPS)\n",
    "        energy = read(file, \"energy\")\n",
    "        Omega = read(file, \"Omega\")\n",
    "        Delta = read(file, \"Delta\")\n",
    "        ls = read(file, \"ls\")\n",
    "        # Find the dimension of psi\n",
    "        dim_psi = length(psi)\n",
    "\n",
    "        b = floor(Int, dim_psi/2)\n",
    "        # psi = orthogonalize(psi, b)\n",
    "        # U,S,V = svd(psi[b], (linkinds(psi, b-1)..., siteinds(psi, b)...))\n",
    "        # SvN = 0.0\n",
    "        # for n=1:dim(S, 1)\n",
    "        #     p = S[n,n]^2\n",
    "        #     SvN -= p * log(p)\n",
    "        # end\n",
    "        SvN = entropy_von_neumann(psi, b)\n",
    "        # println(\"SvN: \", SvN)\n",
    "        push!(results, (Delta=Delta, ls=ls, SvN=SvN))\n",
    "    end\n",
    "end\n",
    "nrow(results)"
   ]
  },
  {
   "cell_type": "code",
   "execution_count": null,
   "metadata": {},
   "outputs": [],
   "source": [
    "Delta = results.Delta\n",
    "ls = results.ls\n",
    "SvN = results.SvN\n",
    "\n",
    "# Create a grid for Delta and ls\n",
    "unique_Delta = unique(Delta)\n",
    "unique_ls = unique(ls)\n",
    "\n",
    "# Initialize a 2D array for SvN\n",
    "z = fill(NaN, length(unique_ls), length(unique_Delta))\n",
    "\n",
    "# Fill the 2D array with SvN values\n",
    "for i in 1:length(Delta)\n",
    "    delta_idx = findfirst(==(Delta[i]), unique_Delta)\n",
    "    ls_idx = findfirst(==(ls[i]), unique_ls)\n",
    "    z[ls_idx, delta_idx] = SvN[i]\n",
    "end\n",
    "Omega = 15.8;  \n",
    "# Create the heatmap with the corresponding values of ls and Delta as axis labels\n",
    "pmm = heatmap(sort(unique_Delta)/Omega, sort(unique_ls), z, colormap=:viridis, xlabel=\"Delta / Omega\", ylabel=\"ls\", title=\"SvN vs Delta and ls\")"
   ]
  },
  {
   "cell_type": "code",
   "execution_count": null,
   "metadata": {},
   "outputs": [],
   "source": [
    "using Plots, HDF5\n",
    "\n",
    "savefig(pmm, \"plots/SvN_vs_Delta_ls_$(N).pdf\")"
   ]
  },
  {
   "cell_type": "code",
   "execution_count": 73,
   "metadata": {},
   "outputs": [],
   "source": [
    "if any(r -> r.Delta == Delta && r.ls == ls, eachrow(results))\n",
    "    row = findfirst(r -> r.Delta == Delta && r.ls == ls, eachrow(results))\n",
    "    println(\"Found: \", results[row, SvN])\n",
    "end"
   ]
  },
  {
   "cell_type": "code",
   "execution_count": null,
   "metadata": {},
   "outputs": [],
   "source": [
    "# Set the colormap to viridis and color limits\n",
    "colormap = :viridis\n",
    "clims = (0, 1.5)\n",
    "\n",
    "# Get the color palette for the colormap\n",
    "palette = get_color_palette(colormap, 256)\n",
    "\n",
    "# Normalize SvN to the range [0, 1]\n",
    "normalized_SvN = (SvN - clims[1]) / (clims[2] - clims[1])\n",
    "color_index = round(Int, normalized_SvN * (length(palette) - 1)) + 1\n",
    "color = palette[color_index]\n",
    "\n",
    "\n",
    "for ls in ls_range\n",
    "    for Delta in Delta_range\n",
    "        if any(r -> r.Delta == Delta && r.ls == ls, eachrow(results))\n",
    "            row = findfirst(r -> r.Delta == Delta && r.ls == ls, eachrow(results))\n",
    "            SvN = results[row, :SvN]\n",
    "            normalized_SvN = (SvN - clims[1]) / (clims[2] - clims[1])\n",
    "            color_index = round(Int, normalized_SvN * (length(palette) - 1)) + 1\n",
    "            color = palette[color_index]\n",
    "            println(\"Found: \", SvN)\n",
    "            scatter!([Delta], [ls], z=[SnV], clims=clims, color=colormap, label=\"\", colorbar=false)\n",
    "        else\n",
    "            scatter!([Delta], [ls], color=:black, label=\"\", colorbar=false)\n",
    "        end\n",
    "    end\n",
    "end\n",
    "\n",
    "# Show the plot with no legend\n",
    "plot!(legend=false)"
   ]
  },
  {
   "cell_type": "code",
   "execution_count": null,
   "metadata": {},
   "outputs": [],
   "source": [
    "SvN"
   ]
  },
  {
   "cell_type": "code",
   "execution_count": null,
   "metadata": {},
   "outputs": [],
   "source": []
  },
  {
   "cell_type": "code",
   "execution_count": null,
   "metadata": {},
   "outputs": [],
   "source": []
  }
 ],
 "metadata": {
  "kernelspec": {
   "display_name": "Julia 1.11.2",
   "language": "julia",
   "name": "julia-1.11"
  },
  "language_info": {
   "file_extension": ".jl",
   "mimetype": "application/julia",
   "name": "julia",
   "version": "1.11.2"
  }
 },
 "nbformat": 4,
 "nbformat_minor": 2
}
